{
 "cells": [
  {
   "cell_type": "code",
   "execution_count": null,
   "metadata": {},
   "outputs": [],
   "source": [
    "include(\"instance_generation_no_x.jl\")\n",
    "using LinearAlgebra"
   ]
  },
  {
   "cell_type": "markdown",
   "metadata": {},
   "source": [
    "# Task 1: implementing the large-scale model\n",
    "\n",
    "## Model construction \n",
    "\n",
    "In the following, the full model must be implemented and solved using Cbc."
   ]
  },
  {
   "cell_type": "code",
   "execution_count": null,
   "metadata": {},
   "outputs": [],
   "source": [
    "TotalFacilities = 5\n",
    "TotalClients = 10\n",
    "TotalScenarios = 20\n",
    "\n",
    "instance = generate_instance(TotalFacilities, TotalClients, TotalScenarios)\n",
    "fullmodel = generate_full_problem(instance)\n",
    "optimize!(fullmodel)"
   ]
  },
  {
   "cell_type": "code",
   "execution_count": null,
   "metadata": {},
   "outputs": [],
   "source": [
    "# Examine the solutions\n",
    "@show y_bar = value.(fullmodel[:y])\n",
    "@show obj = objective_value(fullmodel)"
   ]
  },
  {
   "cell_type": "code",
   "execution_count": null,
   "metadata": {},
   "outputs": [],
   "source": [
    "## Benders decomposition\n",
    "\n",
    "## Generates the main problem\n",
    "function generate_and_solve_lagrangian_subproblem(instance, λ)\n",
    "\n",
    "    I, J, S, K, P, O, V, U, T, D, bigM = unroll_instance(instance)\n",
    "    S⁻ = 2:length(S)\n",
    "\n",
    "    lag_sub = Model(HiGHS.Optimizer)\n",
    "    set_silent(lag_sub)\n",
    "\n",
    "    # Decision variables\n",
    "    @variable(lag_sub, 0 <= y[I, S] <= bigM) # Capacity decided for facility i ∈ I\n",
    "    @variable(lag_sub, w[I, J, S] >= 0) # Flow between facility i ∈ I and client j ∈ J in scenario s ∈ S\n",
    "    @variable(lag_sub, z[J, S] >= 0) # Shortage in location j ∈ J in scenario s ∈ S\n",
    "\n",
    "\n",
    "    # Capacity limits: cannot deliver more than capacity decided, \n",
    "    #   and only if facility was located\n",
    "    @constraint(lag_sub, capBal[i in I, s in S],\n",
    "        sum(w[i, j, s] for j in J) <= y[i, s]\n",
    "    )\n",
    "\n",
    "    # Demand balance: Demand of active clients must be fulfilled\n",
    "    @constraint(lag_sub, demBal[j in J, s in S],\n",
    "        sum(w[i, j, s] for i in I) >= D[j, s] - z[j, s]\n",
    "    )\n",
    "\n",
    "    @objective(lag_sub, Min,\n",
    "        sum(P[s] *\n",
    "            (sum(V[i] * y[i, s] for i in I) +\n",
    "             sum(T[i, j] * w[i, j, s] for i in I, j in J) +\n",
    "             sum(U * z[j, s] for j in J))\n",
    "            for s in S) +\n",
    "        sum(\n",
    "            sum(λ[i, s] * (y[i, 1] - y[i, s]) for i in I)\n",
    "            for s in S⁻)\n",
    "    )\n",
    "\n",
    "    optimize!(lag_sub)\n",
    "\n",
    "    return value.(y), objective_value(lag_sub)\n",
    "end"
   ]
  },
  {
   "cell_type": "code",
   "execution_count": null,
   "metadata": {},
   "outputs": [],
   "source": [
    "function update_lagrangian_multipliers(λ, y_s, UB, LB, k, ϵ, no_improvement, α)\n",
    "\n",
    "    if no_improvement == 10\n",
    "        println(\"Decreasing α...\")\n",
    "        α = 0.8 * α\n",
    "        no_improvement = 0\n",
    "    end\n",
    "\n",
    "    TotalServers, TotalScenarios = size(y_s)\n",
    "    I = 1:TotalServers\n",
    "    S = 1:TotalScenarios\n",
    "    S⁻ = 2:TotalScenarios\n",
    "\n",
    "    for i in I\n",
    "        for s in S⁻\n",
    "            β = sum((y_s[i, 1] - y_s[i, s])^2 for s in S⁻) > ϵ ? α * (UB - LB) / sum((y_s[i, 1] - y_s[i, s])^2 for s in S⁻) : 0.0\n",
    "            λ[i, s] = λ[i, s] + β * (y_s[i, 1] - y_s[i, s])\n",
    "        end\n",
    "    end\n",
    "\n",
    "    return λ, no_improvement, α\n",
    "\n",
    "end"
   ]
  },
  {
   "cell_type": "code",
   "execution_count": null,
   "metadata": {},
   "outputs": [],
   "source": [
    "#%\n",
    "function lagrangian_decomposition(ins; max_iter=200)\n",
    "    k = 1\n",
    "    ϵ = 1e-4\n",
    "    λ = zeros(length(ins.I), length(ins.S))\n",
    "    y_s = zeros(length(ins.I), length(ins.S))\n",
    "    LB_k = 0.0\n",
    "    LB = -Inf\n",
    "    UB = 1100\n",
    "    no_improvement = 0\n",
    "    α = 0.05\n",
    "\n",
    "    start = time()\n",
    "\n",
    "    while k <= max_iter\n",
    "\n",
    "        LB_prev = copy(LB_k)\n",
    "        y_s, LB_k = generate_and_solve_lagrangian_subproblem(ins, λ)\n",
    "\n",
    "        if LB_k <= LB_prev\n",
    "            no_improvement += 1\n",
    "        end\n",
    "\n",
    "        LB = max(LB_k, LB)\n",
    "\n",
    "        λ_prev = copy(λ)\n",
    "        λ, no_improvement, α = update_lagrangian_multipliers(λ, y_s, UB, LB, k, ϵ, no_improvement, α)\n",
    "        println(\"Iter $(k): LB: $(round(LB, digits=2))\")\n",
    "\n",
    "        # if norm(λ_prev - λ) < ϵ \n",
    "        #     break\n",
    "        # end\n",
    "\n",
    "        k += 1\n",
    "    end\n",
    "    return y_s, LB\n",
    "end\n"
   ]
  },
  {
   "cell_type": "code",
   "execution_count": null,
   "metadata": {},
   "outputs": [],
   "source": [
    "y_s, LB = lagrangian_decomposition(instance, max_iter=1000)\n"
   ]
  },
  {
   "cell_type": "code",
   "execution_count": null,
   "metadata": {},
   "outputs": [],
   "source": []
  }
 ],
 "metadata": {
  "kernelspec": {
   "display_name": "Julia 1.7.0",
   "language": "julia",
   "name": "julia-1.7"
  },
  "language_info": {
   "file_extension": ".jl",
   "mimetype": "application/julia",
   "name": "julia",
   "version": "1.7.0"
  }
 },
 "nbformat": 4,
 "nbformat_minor": 4
}
